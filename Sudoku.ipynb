{
 "cells": [
  {
   "cell_type": "code",
   "execution_count": 9,
   "metadata": {},
   "outputs": [],
   "source": [
    "from AlgoritmoGeneticoSudoku import AlgoritmoGenetico as AG\n",
    "import numpy as np\n",
    "import matplotlib.pyplot as plt"
   ]
  },
  {
   "cell_type": "code",
   "execution_count": 10,
   "metadata": {},
   "outputs": [
    {
     "name": "stdout",
     "output_type": "stream",
     "text": [
      "Algoritmo Genético\n",
      "Criando pupulação inicial!\n"
     ]
    }
   ],
   "source": [
    "ag = AG(5, 16, 4)"
   ]
  },
  {
   "cell_type": "markdown",
   "metadata": {},
   "source": [
    "# Atividade avaliativa em grupo\n",
    "Esta parte da avaliação será focada na revisão do código realizado por outro grupo. Esta prática é comum no ambiente de desenvolvimento profissional, onde você faz parte de uma grande equipe e corriqueiramente precisa utilizar, alterar e melhorar códigos criados por outros colegas de trabalho.\n",
    "\n",
    "## Parte 1\n",
    "\n",
    "<ul>\n",
    "  <li>O grupo 1 (G1) irá fazer a correção e verificação do código criado pelo G2.</li>\n",
    "  <li>O grupo 2 (G2) irá fazer a correção e verificação do código criado pelo G3.</li>\n",
    "  <li>O grupo 3 (G3) irá fazer a correção e verificação do código criado pelo G4.</li>\n",
    "  <li>O grupo 4 (G4) irá fazer a correção e verificação do código criado pelo G1.</li>\n",
    "</ul>\n",
    "\n",
    "Escreva na célula a seguir as considerações de seu grupo sobre o código analisado."
   ]
  },
  {
   "cell_type": "markdown",
   "metadata": {},
   "source": [
    "Responda aqui."
   ]
  },
  {
   "cell_type": "markdown",
   "metadata": {},
   "source": [
    "Na célula a seguir, faça as modificações apontadas na revisão do código, implemente as modificações sugeridas na questão anterior."
   ]
  },
  {
   "cell_type": "code",
   "execution_count": null,
   "metadata": {},
   "outputs": [],
   "source": []
  },
  {
   "cell_type": "markdown",
   "metadata": {},
   "source": [
    "## Parte 2\n",
    "\n",
    "Realize as alterações necessárias no código de forma que seja possível armazenar em um vetor (atribuito a ser criado na classe), a aptidão do melhor indivíduo de cada geração existente durante todo o processamento do método \"operadores_geneticos()\". \n",
    "\n",
    "Descreva na célula a seguir a política adotada para garantir o funcionamento da tarefa solicitada.\n"
   ]
  },
  {
   "cell_type": "markdown",
   "metadata": {},
   "source": [
    "Resposta aqui."
   ]
  },
  {
   "cell_type": "markdown",
   "metadata": {},
   "source": [
    "A seguir, apresente o corpo do método com as alterações realizadas."
   ]
  },
  {
   "cell_type": "code",
   "execution_count": null,
   "metadata": {},
   "outputs": [],
   "source": []
  },
  {
   "cell_type": "markdown",
   "metadata": {},
   "source": [
    "## Parte 3\n",
    "\n",
    "Considerando o exemplo de código a seguir, realize as alterações necessárias para que seja exibido o gráfico em linha que representa a evolução populacional a partir do atribuito criado na questão anterior que retem o valor da aptidão do melhor indivíduo de cada geração. Mantenha apenas uma linha no gráfico. Altere o título do gráfico para \"Evolução populacional\"."
   ]
  },
  {
   "cell_type": "code",
   "execution_count": 8,
   "metadata": {},
   "outputs": [
    {
     "data": {
      "image/png": "[encoded data removed]",
      "text/plain": [
       "<Figure size 432x288 with 1 Axes>"
      ]
     },
     "metadata": {
      "needs_background": "light"
     },
     "output_type": "display_data"
    }
   ],
   "source": [
    "data1 = [10,5,2,4,6,8]\n",
    "data2 = [ 1,2,4,8,7,4]\n",
    "x = 10*np.array(range(len(data1)))\n",
    "\n",
    "plt.plot( x, data1, 'go') # green bolinha\n",
    "plt.plot( x, data1, 'k:', color='orange') # linha pontilha orange\n",
    "\n",
    "plt.plot( x, data2, 'r^') # red triangulo\n",
    "plt.plot( x, data2, 'k--', color='blue')  # linha tracejada azul\n",
    "\n",
    "plt.axis([-10, 60, 0, 11])\n",
    "plt.title(\"Mais incrementado\")\n",
    "\n",
    "plt.grid(True)\n",
    "plt.xlabel(\"eixo horizontal\")\n",
    "plt.ylabel(\"que legal\")\n",
    "plt.show()"
   ]
  },
  {
   "cell_type": "code",
   "execution_count": null,
   "metadata": {},
   "outputs": [],
   "source": []
  }
 ],
 "metadata": {
  "kernelspec": {
   "display_name": "Python 3",
   "language": "python",
   "name": "python3"
  },
  "language_info": {
   "codemirror_mode": {
    "name": "ipython",
    "version": 3
   },
   "file_extension": ".py",
   "mimetype": "text/x-python",
   "name": "python",
   "nbconvert_exporter": "python",
   "pygments_lexer": "ipython3",
   "version": "3.6.5"
  }
 },
 "nbformat": 4,
 "nbformat_minor": 2
}
